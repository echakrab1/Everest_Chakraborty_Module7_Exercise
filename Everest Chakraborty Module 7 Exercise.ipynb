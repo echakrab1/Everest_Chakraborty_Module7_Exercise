{
 "cells": [
  {
   "cell_type": "markdown",
   "metadata": {},
   "source": [
    "### Exercise 1\n",
    "Ask a user to enter a number. If the number is positive, print <b>Positive number</b>. Otherwise, do not print any message. Finally, print 'goodbye' message at the end."
   ]
  },
  {
   "cell_type": "code",
   "execution_count": 112,
   "metadata": {},
   "outputs": [
    {
     "name": "stdout",
     "output_type": "stream",
     "text": [
      "Please enter a number: 1\n",
      "Positive Number\n",
      "goodbye\n"
     ]
    }
   ],
   "source": [
    "numb1 = int(input(\"Please enter a number: \"))\n",
    "if numb1 >= 0 :\n",
    "    print(\"Positive Number\")\n",
    "print(\"goodbye\")"
   ]
  },
  {
   "cell_type": "code",
   "execution_count": null,
   "metadata": {},
   "outputs": [],
   "source": []
  },
  {
   "cell_type": "markdown",
   "metadata": {},
   "source": [
    "### Exercise 2\n",
    "Ask for a code and store that answer. \n",
    "If the answer is grey then print out if you found secret code.\n",
    "Otherwise print out the code is not the secret code."
   ]
  },
  {
   "cell_type": "code",
   "execution_count": 1,
   "metadata": {},
   "outputs": [
    {
     "name": "stdout",
     "output_type": "stream",
     "text": [
      "Please enter the code: poop\n",
      "This is is not the right code.\n"
     ]
    }
   ],
   "source": [
    "answer = input(\"Please enter the code: \")\n",
    "if answer == \"grey\" :\n",
    "    print(\"You found a secret code!\")\n",
    "else :\n",
    "    print(\"This is is not the right code.\")"
   ]
  },
  {
   "cell_type": "code",
   "execution_count": null,
   "metadata": {},
   "outputs": [],
   "source": []
  },
  {
   "cell_type": "markdown",
   "metadata": {},
   "source": [
    "# Exercise 3\n",
    "\n",
    "Ask a user to enter a phrase. If the word contains a number, display the \"Number found\" message. Otherwise, show the \"Number not found\" message. "
   ]
  },
  {
   "cell_type": "code",
   "execution_count": 18,
   "metadata": {},
   "outputs": [
    {
     "name": "stdout",
     "output_type": "stream",
     "text": [
      "Please enter a phrase: sfdjklsk\n",
      "Number not found\n"
     ]
    }
   ],
   "source": [
    "phrase = input(\"Please enter a phrase: \")\n",
    "numb0 = \"0\" in phrase\n",
    "numb1 = \"1\" in phrase\n",
    "numb2 = \"2\" in phrase\n",
    "numb3 = \"3\" in phrase\n",
    "numb4 = \"4\" in phrase\n",
    "numb5 = \"5\" in phrase\n",
    "numb6 = \"6\" in phrase\n",
    "numb7 = \"7\" in phrase \n",
    "numb8 = \"8\" in phrase\n",
    "numb9 = \"9\" in phrase\n",
    "\n",
    "if numb0 or numb1 or numb2 or numb3 or numb4 or numb5 or numb6 or numb7 or numb8 or numb9 :\n",
    "    print(\"Number found\")\n",
    "else :\n",
    "    print(\"Number not found\")"
   ]
  },
  {
   "cell_type": "code",
   "execution_count": null,
   "metadata": {},
   "outputs": [],
   "source": []
  },
  {
   "cell_type": "markdown",
   "metadata": {},
   "source": [
    "### Exercise 4\n",
    "\n",
    "Ask a user to enter a number. Then, only if the number is divisible by 2 and 3, show the result of the number divided by two and three in a formated string. The output should look something like this:\n",
    "        \n",
    "    Enter a number: 2\n",
    "    Bye    \n",
    "    \n",
    "    Enter a number: 60\n",
    "    60 / 2 = 30.0\n",
    "    60 / 3 = 20.0\n",
    "    Bye\n",
    "    \n",
    "    Enter a number: 3\n",
    "    Bye\n",
    "    \n",
    "    Enter a number: 10\n",
    "    Bye    "
   ]
  },
  {
   "cell_type": "code",
   "execution_count": 94,
   "metadata": {},
   "outputs": [],
   "source": [
    "def divisible (arg) :\n",
    "    if (arg % 2) == 0 :\n",
    "        retval = True\n",
    "    if (arg % 3) == 0 :\n",
    "        retval = True\n",
    "    else: \n",
    "        retval = False\n",
    "    return retval\n"
   ]
  },
  {
   "cell_type": "code",
   "execution_count": 110,
   "metadata": {},
   "outputs": [
    {
     "name": "stdout",
     "output_type": "stream",
     "text": [
      "Please enter a number: 9\n",
      "9 / 2 = 4.5\n",
      "9 / 3 = 3.0\n",
      "Bye\n"
     ]
    }
   ],
   "source": [
    "numb = int(input(\"Please enter a number: \"))\n",
    "\n",
    "if divisible(numb) :\n",
    "    print(f\"{numb} / 2 = {numb / 2}\")\n",
    "    print(f\"{numb} / 3 = {numb / 3}\")\n",
    "else :\n",
    "    print(end=\"\")\n",
    "    \n",
    "print(\"Bye\")\n",
    "    "
   ]
  },
  {
   "cell_type": "markdown",
   "metadata": {},
   "source": [
    "### Exercise 5\n",
    "Ask a user to enter a number. Determine if the number is zero, positive or negative. Use only <b>if</b> and <b>else</b> statements. \n",
    "    "
   ]
  },
  {
   "cell_type": "code",
   "execution_count": 13,
   "metadata": {},
   "outputs": [
    {
     "name": "stdout",
     "output_type": "stream",
     "text": [
      "Please enter either a positive or negative whole number: 0\n",
      "The number is equal to 0.\n"
     ]
    }
   ],
   "source": [
    "numb2 = int(input(\"Please enter either a positive or negative whole number: \"))\n",
    "if numb2 == 0 :\n",
    "    print(\"The number is equal to 0.\")\n",
    "else : \n",
    "    if numb2 < 0 :\n",
    "        print(f\"The number {numb2} is negative.\")\n",
    "    if numb2 > 0 : \n",
    "        print(f\"The number {numb2} is positive.\")\n",
    "\n",
    "\n",
    "    "
   ]
  },
  {
   "cell_type": "code",
   "execution_count": null,
   "metadata": {},
   "outputs": [],
   "source": []
  }
 ],
 "metadata": {
  "kernelspec": {
   "display_name": "Python 3 (ipykernel)",
   "language": "python",
   "name": "python3"
  },
  "language_info": {
   "codemirror_mode": {
    "name": "ipython",
    "version": 3
   },
   "file_extension": ".py",
   "mimetype": "text/x-python",
   "name": "python",
   "nbconvert_exporter": "python",
   "pygments_lexer": "ipython3",
   "version": "3.9.12"
  }
 },
 "nbformat": 4,
 "nbformat_minor": 4
}
